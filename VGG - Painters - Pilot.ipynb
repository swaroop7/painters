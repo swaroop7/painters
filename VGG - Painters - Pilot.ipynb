{
 "cells": [
  {
   "cell_type": "code",
   "execution_count": 1,
   "metadata": {},
   "outputs": [
    {
     "data": {
      "text/plain": [
       "'/home/swaroop/Downloads/deeplearning_nbs'"
      ]
     },
     "execution_count": 1,
     "metadata": {},
     "output_type": "execute_result"
    }
   ],
   "source": [
    "#Verify we are in the lesson1 directory\n",
    "%pwd"
   ]
  },
  {
   "cell_type": "code",
   "execution_count": 2,
   "metadata": {
    "collapsed": true
   },
   "outputs": [],
   "source": [
    "#Create references to important directories we will use over and over\n",
    "import os, sys\n",
    "current_dir = os.getcwd()\n",
    "LESSON_HOME_DIR = '/home/swaroop/Downloads/deeplearning_nbs'\n",
    "DATA_HOME_DIR = '/home/swaroop/Downloads/deeplearning_nbs'+'/data/pilot-dogscats-inside'"
   ]
  },
  {
   "cell_type": "code",
   "execution_count": 3,
   "metadata": {},
   "outputs": [
    {
     "name": "stderr",
     "output_type": "stream",
     "text": [
      "Using TensorFlow backend.\n"
     ]
    }
   ],
   "source": [
    "#Allow relative imports to directories above lesson1/\n",
    "sys.path.insert(1, os.path.join(sys.path[0], '..'))\n",
    "\n",
    "#import modules\n",
    "from utils import *\n",
    "from vgg16 import Vgg16\n",
    "\n",
    "#Instantiate plotting tool\n",
    "#In Jupyter notebooks, you will need to run this command before doing any plotting\n",
    "%matplotlib inline"
   ]
  },
  {
   "cell_type": "markdown",
   "metadata": {},
   "source": [
    "## Action Plan\n",
    "1. Create Validation and Sample sets\n",
    "2. Rearrange image files into their respective directories \n",
    "3. Finetune and Train model\n",
    "4. Generate predictions\n",
    "5. Validate predictions\n",
    "6. Submit predictions to Kaggle"
   ]
  },
  {
   "cell_type": "code",
   "execution_count": null,
   "metadata": {
    "collapsed": true,
    "hidden": true
   },
   "outputs": [],
   "source": []
  },
  {
   "cell_type": "markdown",
   "metadata": {},
   "source": [
    "## Finetuning and Training"
   ]
  },
  {
   "cell_type": "code",
   "execution_count": 4,
   "metadata": {},
   "outputs": [
    {
     "name": "stdout",
     "output_type": "stream",
     "text": [
      "/home/swaroop/Downloads/deeplearning_nbs/data/pilot-dogscats-inside\n"
     ]
    }
   ],
   "source": [
    "%cd $DATA_HOME_DIR\n",
    "\n",
    "#Set path to sample/ path if desired\n",
    "path = DATA_HOME_DIR  #'/sample/'\n",
    "test_path = DATA_HOME_DIR + '/test/' #We use all the test data\n",
    "results_path=DATA_HOME_DIR + '/results/'\n",
    "train_path=path + '/train/'\n",
    "valid_path=path + '/valid/'"
   ]
  },
  {
   "cell_type": "code",
   "execution_count": 5,
   "metadata": {
    "collapsed": true
   },
   "outputs": [],
   "source": [
    "from keras import backend as K\n",
    "K.set_image_dim_ordering('th')\n",
    "\n",
    "from keras.models import Sequential\n",
    "from keras.layers import Convolution2D, ZeroPadding2D, MaxPooling2D\n",
    "\n",
    "img_width, img_height = 128, 128"
   ]
  },
  {
   "cell_type": "code",
   "execution_count": 6,
   "metadata": {
    "collapsed": true
   },
   "outputs": [],
   "source": [
    "#import Vgg16 helper class\n",
    "vgg = Vgg16()"
   ]
  },
  {
   "cell_type": "code",
   "execution_count": 7,
   "metadata": {
    "collapsed": true
   },
   "outputs": [],
   "source": [
    "#Set constants. You can experiment with no_of_epochs to improve the model\n",
    "batch_size=4\n",
    "no_of_epochs=2"
   ]
  },
  {
   "cell_type": "code",
   "execution_count": 8,
   "metadata": {},
   "outputs": [
    {
     "name": "stdout",
     "output_type": "stream",
     "text": [
      "Found 19 images belonging to 2 classes.\n",
      "Found 4 images belonging to 2 classes.\n"
     ]
    }
   ],
   "source": [
    "#Finetune the model\n",
    "batches = vgg.get_batches(train_path, batch_size=batch_size)\n",
    "val_batches = vgg.get_batches(valid_path, batch_size=batch_size*2)\n",
    "vgg.finetune(batches)\n",
    "\n",
    "#Not sure if we set this for all fits\n",
    "vgg.model.optimizer.lr = 0.01"
   ]
  },
  {
   "cell_type": "code",
   "execution_count": 9,
   "metadata": {
    "collapsed": true
   },
   "outputs": [],
   "source": [
    "import random \n",
    "random.seed(123)"
   ]
  },
  {
   "cell_type": "code",
   "execution_count": 15,
   "metadata": {},
   "outputs": [
    {
     "name": "stdout",
     "output_type": "stream",
     "text": [
      "Running epoch: 0\n",
      "Running batch_size: 4\n",
      "Epoch 1/1\n"
     ]
    },
    {
     "ename": "ValueError",
     "evalue": "output of generator should be a tuple (x, y, sample_weight) or (x, y). Found: [[[[ 160.  171.  172. ...,  135.  143.  124.]\n   [ 155.  146.  157. ...,  135.  168.  138.]\n   [ 147.  149.  145. ...,  124.  158.  181.]\n   ..., \n   [   1.    0.   12. ...,  178.  219.  163.]\n   [   8.   33.   18. ...,   56.   84.   68.]\n   [  19.    4.    5. ...,  130.  131.   77.]]\n\n  [[ 189.  208.  201. ...,  132.  142.  124.]\n   [ 184.  177.  185. ...,  137.  170.  141.]\n   [ 176.  175.  175. ...,  130.  164.  188.]\n   ..., \n   [   2.    1.   20. ...,  181.  216.  157.]\n   [  10.   40.   28. ...,   35.   84.   54.]\n   [  19.    9.   11. ...,  133.  135.   77.]]\n\n  [[ 233.  250.  243. ...,  149.  150.  124.]\n   [ 228.  223.  232. ...,  152.  182.  146.]\n   [ 220.  224.  227. ...,  146.  176.  198.]\n   ..., \n   [   7.    0.    7. ...,  102.  163.  133.]\n   [   5.   22.    4. ...,   40.    0.   25.]\n   [  27.    3.    9. ...,   78.  121.   39.]]]\n\n\n [[[ 162.  171.  155. ...,  142.  136.  137.]\n   [ 159.  157.  152. ...,  128.  133.  139.]\n   [ 164.  166.  158. ...,  130.  128.  133.]\n   ..., \n   [  33.   26.   18. ...,   11.   14.   18.]\n   [  18.   38.   21. ...,   14.   11.   14.]\n   [  23.   22.   23. ...,   15.   15.   17.]]\n\n  [[ 144.  160.  149. ...,  139.  128.  127.]\n   [ 149.  145.  148. ...,  131.  131.  137.]\n   [ 153.  155.  156. ...,  134.  130.  132.]\n   ..., \n   [  28.   27.   23. ...,   14.   17.   19.]\n   [  21.   36.   25. ...,   14.   16.   19.]\n   [  28.   27.   28. ...,   18.   20.   22.]]\n\n  [[ 142.  164.  161. ...,  150.  141.  135.]\n   [ 157.  155.  165. ...,  150.  142.  148.]\n   [ 161.  163.  178. ...,  159.  151.  150.]\n   ..., \n   [  32.   29.   29. ...,   19.   22.   24.]\n   [  26.   37.   26. ...,   22.   19.   22.]\n   [  32.   31.   32. ...,   27.   24.   26.]]]\n\n\n [[[ 113.   91.  132. ...,  180.  111.  170.]\n   [ 135.  138.  143. ...,  155.  136.  135.]\n   [ 140.  126.  136. ...,  134.  157.  132.]\n   ..., \n   [ 157.  101.   97. ...,   65.   62.  112.]\n   [ 121.  116.  105. ...,  133.  131.  113.]\n   [ 150.  131.  138. ...,   46.   41.   47.]]\n\n  [[ 130.  110.  158. ...,  212.  143.  204.]\n   [ 161.  161.  166. ...,  194.  168.  164.]\n   [ 170.  154.  160. ...,  178.  190.  164.]\n   ..., \n   [ 182.  120.  116. ...,   75.   74.  124.]\n   [ 147.  141.  131. ...,  152.  157.  131.]\n   [ 176.  157.  163. ...,   71.   70.   72.]]\n\n  [[ 120.  124.  193. ...,  235.  166.  216.]\n   [ 188.  202.  218. ...,  251.  227.  208.]\n   [ 206.  193.  204. ...,  241.  255.  211.]\n   ..., \n   [ 178.  126.  133. ...,   74.   72.  122.]\n   [ 144.  145.  146. ...,  146.  148.  131.]\n   [ 173.  156.  167. ...,   68.   66.   76.]]]\n\n\n ..., \n [[[ 226.  239.  231. ...,  245.  254.  255.]\n   [ 224.  228.  219. ...,  246.  252.  254.]\n   [ 220.  218.  215. ...,  247.  249.  250.]\n   ..., \n   [ 101.  129.   97. ...,  137.  152.  110.]\n   [  87.  143.  116. ...,  126.  164.  153.]\n   [  99.  151.  170. ...,  133.  127.  128.]]\n\n  [[ 220.  234.  226. ...,  247.  253.  252.]\n   [ 224.  229.  220. ...,  248.  253.  251.]\n   [ 226.  224.  222. ...,  253.  251.  250.]\n   ..., \n   [ 125.  152.  132. ...,  154.  174.  117.]\n   [ 103.  162.  156. ...,  158.  196.  178.]\n   [ 112.  154.  179. ...,  154.  141.  148.]]\n\n  [[ 204.  214.  204. ...,  223.  225.  223.]\n   [ 212.  213.  202. ...,  234.  235.  232.]\n   [ 216.  210.  206. ...,  243.  240.  238.]\n   ..., \n   [  49.   48.   50. ...,   86.  110.   84.]\n   [  32.   54.   59. ...,  111.  113.   94.]\n   [  68.   65.   98. ...,  121.   80.   85.]]]\n\n\n [[[  82.   52.   65. ...,  149.  131.  104.]\n   [ 110.  102.   18. ...,   66.  111.   88.]\n   [  93.   41.    8. ...,   82.  140.   84.]\n   ..., \n   [  35.   46.   36. ...,  141.  127.  217.]\n   [  14.   47.    6. ...,  104.  146.  236.]\n   [  38.   27.   25. ...,  143.  130.  143.]]\n\n  [[  40.   47.   34. ...,  128.  112.   80.]\n   [  59.   42.    8. ...,   46.   84.   75.]\n   [  42.   16.    0. ...,   57.  116.   48.]\n   ..., \n   [  28.   29.   30. ...,  167.  143.  212.]\n   [   4.   41.    0. ...,  128.  168.  231.]\n   [  30.   21.   15. ...,  158.  154.  167.]]\n\n  [[  42.   44.   39. ...,  107.   97.   56.]\n   [  68.   52.   16. ...,   35.   73.   66.]\n   [  49.   19.    3. ...,   52.  114.   34.]\n   ..., \n   [  46.   35.   34. ...,  156.  116.  192.]\n   [  29.   55.    4. ...,  114.  156.  209.]\n   [  54.   35.   23. ...,  137.  140.  141.]]]\n\n\n [[[ 119.  120.   90. ...,  104.  140.  103.]\n   [ 122.   99.   95. ...,  111.  169.  109.]\n   [ 108.  105.   93. ...,  118.  139.  103.]\n   ..., \n   [ 157.  131.   90. ...,   96.   97.   94.]\n   [ 144.  167.  151. ...,   87.  104.   86.]\n   [ 128.  149.  187. ...,   82.  102.   68.]]\n\n  [[ 134.  132.  112. ...,  111.  149.  115.]\n   [ 135.  117.  108. ...,  118.  176.  118.]\n   [ 126.  120.  109. ...,  126.  147.  113.]\n   ..., \n   [ 157.  135.   92. ...,  108.  112.  106.]\n   [ 144.  171.  153. ...,  106.  111.   93.]\n   [ 132.  159.  185. ...,   96.  106.   75.]]\n\n  [[ 165.  180.  135. ...,  130.  156.  111.]\n   [ 180.  165.  143. ...,  136.  192.  151.]\n   [ 162.  175.  142. ...,  139.  168.  138.]\n   ..., \n   [ 157.  136.  104. ...,  104.  105.   96.]\n   [ 142.  174.  166. ...,  104.   95.   75.]\n   [ 131.  151.  173. ...,   96.   91.   44.]]]]",
     "output_type": "error",
     "traceback": [
      "\u001b[0;31m---------------------------------------------------------------------------\u001b[0m",
      "\u001b[0;31mValueError\u001b[0m                                Traceback (most recent call last)",
      "\u001b[0;32m<ipython-input-15-df2c7b21141a>\u001b[0m in \u001b[0;36m<module>\u001b[0;34m()\u001b[0m\n\u001b[1;32m     10\u001b[0m         \u001b[0mprint\u001b[0m \u001b[0;34m(\u001b[0m\u001b[0;34m\"Running epoch: %d\"\u001b[0m \u001b[0;34m%\u001b[0m \u001b[0mepoch\u001b[0m\u001b[0;34m)\u001b[0m\u001b[0;34m\u001b[0m\u001b[0m\n\u001b[1;32m     11\u001b[0m         \u001b[0mprint\u001b[0m \u001b[0;34m(\u001b[0m\u001b[0;34m\"Running batch_size: %d\"\u001b[0m \u001b[0;34m%\u001b[0m \u001b[0mbatch_size\u001b[0m\u001b[0;34m)\u001b[0m\u001b[0;34m\u001b[0m\u001b[0m\n\u001b[0;32m---> 12\u001b[0;31m         \u001b[0mvgg\u001b[0m\u001b[0;34m.\u001b[0m\u001b[0mfit\u001b[0m\u001b[0;34m(\u001b[0m\u001b[0mbatches\u001b[0m\u001b[0;34m,\u001b[0m \u001b[0mval_batches\u001b[0m\u001b[0;34m,\u001b[0m \u001b[0mnb_epoch\u001b[0m\u001b[0;34m=\u001b[0m\u001b[0;36m1\u001b[0m\u001b[0;34m)\u001b[0m\u001b[0;34m\u001b[0m\u001b[0m\n\u001b[0m\u001b[1;32m     13\u001b[0m         \u001b[0mlatest_weights_filename\u001b[0m \u001b[0;34m=\u001b[0m \u001b[0;34m'ft%d.h5'\u001b[0m \u001b[0;34m%\u001b[0m \u001b[0mepoch\u001b[0m\u001b[0;34m\u001b[0m\u001b[0m\n\u001b[1;32m     14\u001b[0m         \u001b[0;31m#vgg.model.save_weights(results_path+latest_weights_filename)\u001b[0m\u001b[0;34m\u001b[0m\u001b[0;34m\u001b[0m\u001b[0m\n",
      "\u001b[0;32m~/Downloads/deeplearning_nbs/vgg16.py\u001b[0m in \u001b[0;36mfit\u001b[0;34m(self, batches, val_batches, nb_epoch)\u001b[0m\n\u001b[1;32m    115\u001b[0m     \u001b[0;32mdef\u001b[0m \u001b[0mfit\u001b[0m\u001b[0;34m(\u001b[0m\u001b[0mself\u001b[0m\u001b[0;34m,\u001b[0m \u001b[0mbatches\u001b[0m\u001b[0;34m,\u001b[0m \u001b[0mval_batches\u001b[0m\u001b[0;34m,\u001b[0m \u001b[0mnb_epoch\u001b[0m\u001b[0;34m=\u001b[0m\u001b[0;36m1\u001b[0m\u001b[0;34m)\u001b[0m\u001b[0;34m:\u001b[0m\u001b[0;34m\u001b[0m\u001b[0m\n\u001b[1;32m    116\u001b[0m         self.model.fit_generator(batches, samples_per_epoch=batches.nb_sample, nb_epoch=nb_epoch,\n\u001b[0;32m--> 117\u001b[0;31m                 validation_data=val_batches, nb_val_samples=val_batches.nb_sample)\n\u001b[0m\u001b[1;32m    118\u001b[0m \u001b[0;34m\u001b[0m\u001b[0m\n\u001b[1;32m    119\u001b[0m \u001b[0;34m\u001b[0m\u001b[0m\n",
      "\u001b[0;32m~/anaconda3/lib/python3.6/site-packages/keras/models.py\u001b[0m in \u001b[0;36mfit_generator\u001b[0;34m(self, generator, samples_per_epoch, nb_epoch, verbose, callbacks, validation_data, nb_val_samples, class_weight, max_q_size, nb_worker, pickle_safe, initial_epoch, **kwargs)\u001b[0m\n\u001b[1;32m    933\u001b[0m                                         \u001b[0mnb_worker\u001b[0m\u001b[0;34m=\u001b[0m\u001b[0mnb_worker\u001b[0m\u001b[0;34m,\u001b[0m\u001b[0;34m\u001b[0m\u001b[0m\n\u001b[1;32m    934\u001b[0m                                         \u001b[0mpickle_safe\u001b[0m\u001b[0;34m=\u001b[0m\u001b[0mpickle_safe\u001b[0m\u001b[0;34m,\u001b[0m\u001b[0;34m\u001b[0m\u001b[0m\n\u001b[0;32m--> 935\u001b[0;31m                                         initial_epoch=initial_epoch)\n\u001b[0m\u001b[1;32m    936\u001b[0m \u001b[0;34m\u001b[0m\u001b[0m\n\u001b[1;32m    937\u001b[0m     def evaluate_generator(self, generator, val_samples,\n",
      "\u001b[0;32m~/anaconda3/lib/python3.6/site-packages/keras/engine/training.py\u001b[0m in \u001b[0;36mfit_generator\u001b[0;34m(self, generator, samples_per_epoch, nb_epoch, verbose, callbacks, validation_data, nb_val_samples, class_weight, max_q_size, nb_worker, pickle_safe, initial_epoch)\u001b[0m\n\u001b[1;32m   1540\u001b[0m                                          \u001b[0;34m'(x, y, sample_weight) '\u001b[0m\u001b[0;34m\u001b[0m\u001b[0m\n\u001b[1;32m   1541\u001b[0m                                          \u001b[0;34m'or (x, y). Found: '\u001b[0m \u001b[0;34m+\u001b[0m\u001b[0;34m\u001b[0m\u001b[0m\n\u001b[0;32m-> 1542\u001b[0;31m                                          str(generator_output))\n\u001b[0m\u001b[1;32m   1543\u001b[0m                     \u001b[0;31m# build batch logs\u001b[0m\u001b[0;34m\u001b[0m\u001b[0;34m\u001b[0m\u001b[0m\n\u001b[1;32m   1544\u001b[0m                     \u001b[0mbatch_logs\u001b[0m \u001b[0;34m=\u001b[0m \u001b[0;34m{\u001b[0m\u001b[0;34m}\u001b[0m\u001b[0;34m\u001b[0m\u001b[0m\n",
      "\u001b[0;31mValueError\u001b[0m: output of generator should be a tuple (x, y, sample_weight) or (x, y). Found: [[[[ 160.  171.  172. ...,  135.  143.  124.]\n   [ 155.  146.  157. ...,  135.  168.  138.]\n   [ 147.  149.  145. ...,  124.  158.  181.]\n   ..., \n   [   1.    0.   12. ...,  178.  219.  163.]\n   [   8.   33.   18. ...,   56.   84.   68.]\n   [  19.    4.    5. ...,  130.  131.   77.]]\n\n  [[ 189.  208.  201. ...,  132.  142.  124.]\n   [ 184.  177.  185. ...,  137.  170.  141.]\n   [ 176.  175.  175. ...,  130.  164.  188.]\n   ..., \n   [   2.    1.   20. ...,  181.  216.  157.]\n   [  10.   40.   28. ...,   35.   84.   54.]\n   [  19.    9.   11. ...,  133.  135.   77.]]\n\n  [[ 233.  250.  243. ...,  149.  150.  124.]\n   [ 228.  223.  232. ...,  152.  182.  146.]\n   [ 220.  224.  227. ...,  146.  176.  198.]\n   ..., \n   [   7.    0.    7. ...,  102.  163.  133.]\n   [   5.   22.    4. ...,   40.    0.   25.]\n   [  27.    3.    9. ...,   78.  121.   39.]]]\n\n\n [[[ 162.  171.  155. ...,  142.  136.  137.]\n   [ 159.  157.  152. ...,  128.  133.  139.]\n   [ 164.  166.  158. ...,  130.  128.  133.]\n   ..., \n   [  33.   26.   18. ...,   11.   14.   18.]\n   [  18.   38.   21. ...,   14.   11.   14.]\n   [  23.   22.   23. ...,   15.   15.   17.]]\n\n  [[ 144.  160.  149. ...,  139.  128.  127.]\n   [ 149.  145.  148. ...,  131.  131.  137.]\n   [ 153.  155.  156. ...,  134.  130.  132.]\n   ..., \n   [  28.   27.   23. ...,   14.   17.   19.]\n   [  21.   36.   25. ...,   14.   16.   19.]\n   [  28.   27.   28. ...,   18.   20.   22.]]\n\n  [[ 142.  164.  161. ...,  150.  141.  135.]\n   [ 157.  155.  165. ...,  150.  142.  148.]\n   [ 161.  163.  178. ...,  159.  151.  150.]\n   ..., \n   [  32.   29.   29. ...,   19.   22.   24.]\n   [  26.   37.   26. ...,   22.   19.   22.]\n   [  32.   31.   32. ...,   27.   24.   26.]]]\n\n\n [[[ 113.   91.  132. ...,  180.  111.  170.]\n   [ 135.  138.  143. ...,  155.  136.  135.]\n   [ 140.  126.  136. ...,  134.  157.  132.]\n   ..., \n   [ 157.  101.   97. ...,   65.   62.  112.]\n   [ 121.  116.  105. ...,  133.  131.  113.]\n   [ 150.  131.  138. ...,   46.   41.   47.]]\n\n  [[ 130.  110.  158. ...,  212.  143.  204.]\n   [ 161.  161.  166. ...,  194.  168.  164.]\n   [ 170.  154.  160. ...,  178.  190.  164.]\n   ..., \n   [ 182.  120.  116. ...,   75.   74.  124.]\n   [ 147.  141.  131. ...,  152.  157.  131.]\n   [ 176.  157.  163. ...,   71.   70.   72.]]\n\n  [[ 120.  124.  193. ...,  235.  166.  216.]\n   [ 188.  202.  218. ...,  251.  227.  208.]\n   [ 206.  193.  204. ...,  241.  255.  211.]\n   ..., \n   [ 178.  126.  133. ...,   74.   72.  122.]\n   [ 144.  145.  146. ...,  146.  148.  131.]\n   [ 173.  156.  167. ...,   68.   66.   76.]]]\n\n\n ..., \n [[[ 226.  239.  231. ...,  245.  254.  255.]\n   [ 224.  228.  219. ...,  246.  252.  254.]\n   [ 220.  218.  215. ...,  247.  249.  250.]\n   ..., \n   [ 101.  129.   97. ...,  137.  152.  110.]\n   [  87.  143.  116. ...,  126.  164.  153.]\n   [  99.  151.  170. ...,  133.  127.  128.]]\n\n  [[ 220.  234.  226. ...,  247.  253.  252.]\n   [ 224.  229.  220. ...,  248.  253.  251.]\n   [ 226.  224.  222. ...,  253.  251.  250.]\n   ..., \n   [ 125.  152.  132. ...,  154.  174.  117.]\n   [ 103.  162.  156. ...,  158.  196.  178.]\n   [ 112.  154.  179. ...,  154.  141.  148.]]\n\n  [[ 204.  214.  204. ...,  223.  225.  223.]\n   [ 212.  213.  202. ...,  234.  235.  232.]\n   [ 216.  210.  206. ...,  243.  240.  238.]\n   ..., \n   [  49.   48.   50. ...,   86.  110.   84.]\n   [  32.   54.   59. ...,  111.  113.   94.]\n   [  68.   65.   98. ...,  121.   80.   85.]]]\n\n\n [[[  82.   52.   65. ...,  149.  131.  104.]\n   [ 110.  102.   18. ...,   66.  111.   88.]\n   [  93.   41.    8. ...,   82.  140.   84.]\n   ..., \n   [  35.   46.   36. ...,  141.  127.  217.]\n   [  14.   47.    6. ...,  104.  146.  236.]\n   [  38.   27.   25. ...,  143.  130.  143.]]\n\n  [[  40.   47.   34. ...,  128.  112.   80.]\n   [  59.   42.    8. ...,   46.   84.   75.]\n   [  42.   16.    0. ...,   57.  116.   48.]\n   ..., \n   [  28.   29.   30. ...,  167.  143.  212.]\n   [   4.   41.    0. ...,  128.  168.  231.]\n   [  30.   21.   15. ...,  158.  154.  167.]]\n\n  [[  42.   44.   39. ...,  107.   97.   56.]\n   [  68.   52.   16. ...,   35.   73.   66.]\n   [  49.   19.    3. ...,   52.  114.   34.]\n   ..., \n   [  46.   35.   34. ...,  156.  116.  192.]\n   [  29.   55.    4. ...,  114.  156.  209.]\n   [  54.   35.   23. ...,  137.  140.  141.]]]\n\n\n [[[ 119.  120.   90. ...,  104.  140.  103.]\n   [ 122.   99.   95. ...,  111.  169.  109.]\n   [ 108.  105.   93. ...,  118.  139.  103.]\n   ..., \n   [ 157.  131.   90. ...,   96.   97.   94.]\n   [ 144.  167.  151. ...,   87.  104.   86.]\n   [ 128.  149.  187. ...,   82.  102.   68.]]\n\n  [[ 134.  132.  112. ...,  111.  149.  115.]\n   [ 135.  117.  108. ...,  118.  176.  118.]\n   [ 126.  120.  109. ...,  126.  147.  113.]\n   ..., \n   [ 157.  135.   92. ...,  108.  112.  106.]\n   [ 144.  171.  153. ...,  106.  111.   93.]\n   [ 132.  159.  185. ...,   96.  106.   75.]]\n\n  [[ 165.  180.  135. ...,  130.  156.  111.]\n   [ 180.  165.  143. ...,  136.  192.  151.]\n   [ 162.  175.  142. ...,  139.  168.  138.]\n   ..., \n   [ 157.  136.  104. ...,  104.  105.   96.]\n   [ 142.  174.  166. ...,  104.   95.   75.]\n   [ 131.  151.  173. ...,   96.   91.   44.]]]]"
     ]
    }
   ],
   "source": [
    "# swaroop code based on lecture \n",
    "\n",
    "#vgg.fit(batches, val_batches, nb_epoch=1)\n",
    "\n",
    "latest_weights_filename = None\n",
    "no_of_epochs=2\n",
    "\n",
    "for batch_size in [4]:\n",
    "    for epoch in range(no_of_epochs):\n",
    "        print (\"Running epoch: %d\" % epoch)\n",
    "        print (\"Running batch_size: %d\" % batch_size)\n",
    "        vgg.fit(batches, val_batches, nb_epoch=1)\n",
    "        latest_weights_filename = 'ft%d.h5' % epoch\n",
    "        #vgg.model.save_weights(results_path+latest_weights_filename)\n",
    "    print (\"Completed %s fit operations\" % no_of_epochs)"
   ]
  },
  {
   "cell_type": "code",
   "execution_count": null,
   "metadata": {
    "collapsed": true
   },
   "outputs": [],
   "source": []
  },
  {
   "cell_type": "code",
   "execution_count": null,
   "metadata": {
    "collapsed": true
   },
   "outputs": [],
   "source": []
  },
  {
   "cell_type": "markdown",
   "metadata": {
    "heading_collapsed": true
   },
   "source": [
    "## Generate Predictions"
   ]
  },
  {
   "cell_type": "markdown",
   "metadata": {},
   "source": [
    "Let's use our new model to make predictions on the test dataset"
   ]
  },
  {
   "cell_type": "code",
   "execution_count": 11,
   "metadata": {
    "hidden": true,
    "scrolled": true
   },
   "outputs": [
    {
     "name": "stdout",
     "output_type": "stream",
     "text": [
      "Found 8 images belonging to 2 classes.\n"
     ]
    }
   ],
   "source": [
    "batches, preds = vgg.test(test_path, batch_size = batch_size*2)"
   ]
  },
  {
   "cell_type": "code",
   "execution_count": null,
   "metadata": {
    "collapsed": true,
    "hidden": true
   },
   "outputs": [],
   "source": []
  },
  {
   "cell_type": "code",
   "execution_count": 12,
   "metadata": {},
   "outputs": [
    {
     "name": "stdout",
     "output_type": "stream",
     "text": [
      "[0 0 0 0 1 1 1 1]\n",
      "[  8.1395e-01   9.9993e-01   7.5594e-01   9.9969e-01   1.3625e-03   5.9084e-03   9.8574e-01\n",
      "   1.9832e-13]\n",
      "[ 0.  0.  0.  0.  1.  1.  0.  1.]\n",
      "ROC -  0.875\n"
     ]
    }
   ],
   "source": [
    "filenames = batches.filenames\n",
    "expected_labels = batches.classes #0 or 1\n",
    "\n",
    "print (expected_labels)\n",
    "#Round our predictions to 0/1 to generate labels\n",
    "our_predictions = preds[:,0]\n",
    "#print (our_predictions)\n",
    "our_labels = np.round(1-our_predictions)\n",
    "print (our_predictions)\n",
    "print (our_labels)\n",
    "\n",
    "from sklearn.metrics import roc_auc_score  \n",
    "\n",
    "\n",
    "print ('ROC - ',roc_auc_score(expected_labels, preds[:,1]))"
   ]
  },
  {
   "cell_type": "code",
   "execution_count": 13,
   "metadata": {
    "collapsed": true,
    "hidden": true
   },
   "outputs": [],
   "source": [
    "from sklearn.metrics import confusion_matrix\n",
    "cm = confusion_matrix(expected_labels, our_labels)"
   ]
  },
  {
   "cell_type": "code",
   "execution_count": 14,
   "metadata": {
    "hidden": true
   },
   "outputs": [
    {
     "name": "stdout",
     "output_type": "stream",
     "text": [
      "[[4 0]\n",
      " [1 3]]\n"
     ]
    },
    {
     "data": {
      "image/png": "[encoded data removed]",
      "text/plain": [
       "<matplotlib.figure.Figure at 0x7f291c56e828>"
      ]
     },
     "metadata": {},
     "output_type": "display_data"
    }
   ],
   "source": [
    "plot_confusion_matrix(cm, val_batches.class_indices)"
   ]
  },
  {
   "cell_type": "markdown",
   "metadata": {
    "collapsed": true
   },
   "source": [
    "## Validate Predictions"
   ]
  },
  {
   "cell_type": "markdown",
   "metadata": {},
   "source": [
    "Keras' *fit()* function conveniently shows us the value of the loss function, and the accuracy, after every epoch (\"*epoch*\" refers to one full run through all training examples). The most important metrics for us to look at are for the validation set, since we want to check for over-fitting. \n",
    "\n",
    "- **Tip**: with our first model we should try to overfit before we start worrying about how to reduce over-fitting - there's no point even thinking about regularization, data augmentation, etc if you're still under-fitting! (We'll be looking at these techniques shortly).\n",
    "\n",
    "As well as looking at the overall metrics, it's also a good idea to look at examples of each of:\n",
    "1. A few correct labels at random\n",
    "2. A few incorrect labels at random\n",
    "3. The most correct labels of each class (ie those with highest probability that are correct)\n",
    "4. The most incorrect labels of each class (ie those with highest probability that are incorrect)\n",
    "5. The most uncertain labels (ie those with probability closest to 0.5)."
   ]
  },
  {
   "cell_type": "markdown",
   "metadata": {},
   "source": [
    "Let's see what we can learn from these examples. (In general, this is a particularly useful technique for debugging problems in the model. However, since this model is so simple, there may not be too much to learn at this stage.)\n",
    "\n",
    "Calculate predictions on validation set, so we can find correct and incorrect examples:"
   ]
  },
  {
   "cell_type": "markdown",
   "metadata": {},
   "source": [
    "Perhaps the most common way to analyze the result of a classification model is to use a [confusion matrix](http://www.dataschool.io/simple-guide-to-confusion-matrix-terminology/). Scikit-learn has a convenient function we can use for this purpose:"
   ]
  },
  {
   "cell_type": "markdown",
   "metadata": {},
   "source": [
    "[Log Loss](http://wiki.fast.ai/index.php/Log_Loss) doesn't support probability values of 0 or 1--they are undefined (and we have many). Fortunately, Kaggle helps us by offsetting our 0s and 1s by a very small value. So if we upload our submission now we will have lots of .99999999 and .000000001 values. This seems good, right?\n",
    "\n",
    "Not so. There is an additional twist due to how log loss is calculated--log loss rewards predictions that are confident and correct (p=.9999,label=1), but it punishes predictions that are confident and wrong far more (p=.0001,label=1). See visualization below."
   ]
  }
 ],
 "metadata": {
  "anaconda-cloud": {},
  "kernelspec": {
   "display_name": "Python 3",
   "language": "python",
   "name": "python3"
  },
  "language_info": {
   "codemirror_mode": {
    "name": "ipython",
    "version": 3
   },
   "file_extension": ".py",
   "mimetype": "text/x-python",
   "name": "python",
   "nbconvert_exporter": "python",
   "pygments_lexer": "ipython3",
   "version": "3.6.3"
  },
  "nav_menu": {},
  "nbpresent": {
   "slides": {
    "28b43202-5690-4169-9aca-6b9dabfeb3ec": {
     "id": "28b43202-5690-4169-9aca-6b9dabfeb3ec",
     "prev": null,
     "regions": {
      "3bba644a-cf4d-4a49-9fbd-e2554428cf9f": {
       "attrs": {
        "height": 0.8,
        "width": 0.8,
        "x": 0.1,
        "y": 0.1
       },
       "content": {
        "cell": "f3d3a388-7e2a-4151-9b50-c20498fceacc",
        "part": "whole"
       },
       "id": "3bba644a-cf4d-4a49-9fbd-e2554428cf9f"
      }
     }
    },
    "8104def2-4b68-44a0-8f1b-b03bf3b2a079": {
     "id": "8104def2-4b68-44a0-8f1b-b03bf3b2a079",
     "prev": "28b43202-5690-4169-9aca-6b9dabfeb3ec",
     "regions": {
      "7dded777-1ddf-4100-99ae-25cf1c15b575": {
       "attrs": {
        "height": 0.8,
        "width": 0.8,
        "x": 0.1,
        "y": 0.1
       },
       "content": {
        "cell": "fe47bd48-3414-4657-92e7-8b8d6cb0df00",
        "part": "whole"
       },
       "id": "7dded777-1ddf-4100-99ae-25cf1c15b575"
      }
     }
    }
   },
   "themes": {}
  },
  "toc": {
   "nav_menu": {
    "height": "148px",
    "width": "254px"
   },
   "navigate_menu": true,
   "number_sections": true,
   "sideBar": true,
   "threshold": 6,
   "toc_cell": false,
   "toc_section_display": "block",
   "toc_window_display": false
  }
 },
 "nbformat": 4,
 "nbformat_minor": 1
}
