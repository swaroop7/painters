{
 "cells": [
  {
   "cell_type": "code",
   "execution_count": 4,
   "metadata": {
    "collapsed": false
   },
   "outputs": [
    {
     "name": "stderr",
     "output_type": "stream",
     "text": [
      "C:\\Users\\swaroop\\AppData\\Local\\Continuum\\Anaconda2\\lib\\site-packages\\sklearn\\cross_validation.py:44: DeprecationWarning: This module was deprecated in version 0.18 in favor of the model_selection module into which all the refactored classes and functions are moved. Also note that the interface of the new CV iterators are different from that of this module. This module will be removed in 0.20.\n",
      "  \"This module will be removed in 0.20.\", DeprecationWarning)\n"
     ]
    }
   ],
   "source": [
    "'''\n",
    "make_submission() generates predictions for the Kaggle Painter by Numbers competion\n",
    "using simple features (image size, aspect ratio and bits/pixel^2)\n",
    "author: Swaroop Krothapalli - extended code of small yello duck\n",
    "https://github.com/swaroop7/painters\n",
    "'''\n",
    "import random\n",
    "import time\n",
    "import os\n",
    "import random\n",
    "import numpy as np\n",
    "import pandas as pd\n",
    "from PIL import Image\n",
    "from matplotlib import pyplot as plt\n",
    "from sklearn.cross_validation import KFold\n",
    "import cv2\n",
    "import numpy as np\n",
    "from sklearn.svm import SVC\n",
    "from sklearn.svm import LinearSVC\n",
    "from sklearn.ensemble import RandomForestClassifier\n",
    "from sklearn.metrics import roc_auc_score  \n",
    "from sklearn.naive_bayes import GaussianNB\n",
    "from sklearn.naive_bayes import BernoulliNB\n",
    "from sklearn.cross_validation import train_test_split\n",
    "from sklearn.metrics import confusion_matrix\n",
    "from sklearn.metrics import accuracy_score\n",
    "from sklearn.metrics import precision_score\n",
    "from sklearn.metrics import recall_score\n",
    "from sklearn.metrics import f1_score\n",
    "from sklearn.metrics import roc_curve, auc\n",
    "from scipy.stats import itemfreq\n",
    "from sklearn import neighbors, linear_model\n",
    "from sklearn.metrics import classification_report\n",
    "import xgboost as xgb\n",
    "from sklearn import cross_validation\n",
    "np.set_printoptions(precision=3, linewidth=100)\n",
    "\n",
    "mingw_path = 'C:\\\\Program Files\\\\mingw-w64\\\\x86_64-5.3.0-posix-seh-rt_v4-rev0\\\\mingw64\\\\bin'\n",
    "os.environ['PATH'] = mingw_path + ';' + os.environ['PATH']\n",
    "\n",
    "os.chdir('C:\\\\Users\\\\swaroop\\\\Downloads\\\\painters\\\\cnn_features\\\\april27')"
   ]
  },
  {
   "cell_type": "code",
   "execution_count": 1,
   "metadata": {
    "collapsed": false
   },
   "outputs": [
    {
     "name": "stdout",
     "output_type": "stream",
     "text": [
      "425228\n",
      "549698\n",
      "606859\n",
      "629887\n",
      "654827\n",
      "672157\n",
      "679105\n",
      "692973\n",
      "699823\n",
      "702546\n",
      "708143\n",
      "712748\n",
      "718520\n",
      "723036\n",
      "727932\n",
      "730765\n",
      "733079\n",
      "734826\n",
      "736628\n",
      "739633\n",
      "741599\n",
      "743162\n",
      "744874\n",
      "746884\n",
      "748318\n",
      "748711\n",
      "749491\n",
      "750181\n",
      "753242\n",
      "753682\n",
      "755685\n",
      "757204\n",
      "757836\n",
      "758114\n",
      "758858\n",
      "760153\n",
      "760554\n",
      "761293\n",
      "761477\n",
      "762269\n",
      "762869\n",
      "762995\n",
      "763350\n",
      "763709\n",
      "764260\n",
      "765241\n",
      "765460\n",
      "766910\n",
      "part 1 done\n"
     ]
    }
   ],
   "source": [
    "input_file = open('C:\\\\Users\\\\swaroop\\\\Downloads\\\\painters\\\\cnn_features\\\\april27\\\\train_conv3_1.txt')\n",
    "output_file = open('C:\\\\Users\\\\swaroop\\\\Downloads\\\\painters\\\\cnn_features\\\\april27\\\\train_processed_conv3_1.txt','w')\n",
    "\n",
    "random = {}\n",
    "\n",
    "output = set()\n",
    "\n",
    "\n",
    "for line in input_file:\n",
    "    line = line[2:]\n",
    "    for each_word in line.split():\n",
    "        words = each_word.split(\":\")\n",
    "        output.add(words[0].strip())\n",
    "    print len(output)\n",
    "\n",
    "print 'part 1 done'\n",
    "\n",
    "for x in output:\n",
    "    random[x] = 0.\n",
    "\n",
    "\n",
    "input_file.close()\n",
    "input_file = open('C:\\\\Users\\\\swaroop\\\\Downloads\\\\painters\\\\cnn_features\\\\april27\\\\train_conv3_1.txt')\n",
    "\n",
    "for line in input_file:\n",
    "    line = line[2:]\n",
    "    for each_word in line.split():\n",
    "        words = each_word.strip().split(\":\")\n",
    "        random[words[0]] = round(float(words[1]), 4)\n",
    "            \n",
    "    for key,value in random.items():\n",
    "        output_file.write(str(value)+' ')\n",
    "        random[key] = 0.\n",
    "    output_file.write('\\n')\n",
    "    \n",
    "\n",
    "output_file.close()"
   ]
  },
  {
   "cell_type": "code",
   "execution_count": 2,
   "metadata": {
    "collapsed": false
   },
   "outputs": [
    {
     "name": "stdout",
     "output_type": "stream",
     "text": [
      "line done\n",
      "line done\n",
      "line done\n",
      "line done\n",
      "line done\n",
      "line done\n",
      "line done\n",
      "line done\n",
      "line done\n",
      "line done\n"
     ]
    }
   ],
   "source": [
    "input_file = open('C:\\\\Users\\\\swaroop\\\\Downloads\\\\painters\\\\cnn_features\\\\april27\\\\test_conv3_1.txt')\n",
    "output_file = open('C:\\\\Users\\\\swaroop\\\\Downloads\\\\painters\\\\cnn_features\\\\april27\\\\test_processed_conv3_1.txt','w')\n",
    "\n",
    "for line in input_file:\n",
    "    line = line[2:]\n",
    "    for each_word in line.split():\n",
    "        words = each_word.strip().split(\":\")\n",
    "        if words[0] in output:\n",
    "            random[words[0]] = round(float(words[1]), 4)\n",
    "            \n",
    "    for key,value in random.items():\n",
    "        output_file.write(str(value)+' ')\n",
    "        random[key] = 0.\n",
    "    print 'line done'\n",
    "    output_file.write('\\n')\n",
    "    \n",
    "input_file.close()\n",
    "output_file.close()"
   ]
  },
  {
   "cell_type": "code",
   "execution_count": 5,
   "metadata": {
    "collapsed": false
   },
   "outputs": [
    {
     "name": "stdout",
     "output_type": "stream",
     "text": [
      "(48L, 766910L)\n",
      "(48L, 766910L)\n",
      "(10L, 766910L)\n",
      "(48L,)\n",
      "(10L,)\n"
     ]
    }
   ],
   "source": [
    "x_train = np.loadtxt('C:\\\\Users\\\\swaroop\\\\Downloads\\\\painters\\\\cnn_features\\\\april27\\\\train_processed_conv3_1.txt')\n",
    "y_train = np.loadtxt('C:\\\\Users\\\\swaroop\\\\Downloads\\\\painters\\\\cnn_features\\\\y_train_conv5_1.txt')\n",
    "x_test = np.loadtxt('C:\\\\Users\\\\swaroop\\\\Downloads\\\\painters\\\\cnn_features\\\\april27\\\\test_processed_conv3_1.txt')\n",
    "y_test = np.loadtxt('C:\\\\Users\\\\swaroop\\\\Downloads\\\\painters\\\\cnn_features\\\\y_test_conv5_1.txt')\n",
    "\n",
    "print x_train.shape\n",
    "\n",
    "'''\n",
    "rand_numbers = []\n",
    "\n",
    "for x in range(1,500):\n",
    "    rand_numbers.append(random.randint(1,79928))\n",
    "    \n",
    "new_x_train = x_train[:, rand_numbers]\n",
    "\n",
    "new_x_test = x_test[:, rand_numbers]\n",
    "'''\n",
    "print x_train.shape\n",
    "print x_test.shape\n",
    "print y_train.shape\n",
    "print y_test.shape"
   ]
  },
  {
   "cell_type": "code",
   "execution_count": null,
   "metadata": {
    "collapsed": true
   },
   "outputs": [],
   "source": []
  },
  {
   "cell_type": "code",
   "execution_count": 6,
   "metadata": {
    "collapsed": false
   },
   "outputs": [],
   "source": [
    "def print_results(clf, y_test, y_pred, y_pred_prob):\n",
    "    #y_pred_prob = clf.predict_proba(y_test)[:,1]\n",
    "    #y_pred = clf.predict(y_test)\n",
    "    print 'ROC - ',roc_auc_score(y_test, y_pred_prob)\n",
    "    print 'Accuracy - ',accuracy_score(y_test, y_pred)\n",
    "    print 'Confusion Matrix - ', confusion_matrix(y_test, y_pred)\n",
    "    #print 'Precision - ',precision_score(y_test, y_pred ),'Recall - ',recall_score(y_test, y_pred),'F1- Score',f1_score(y_test, y_pred),'\\n'\n",
    "    target_names = ['class 0', 'class 1']\n",
    "    print classification_report(y_test, y_pred, target_names=target_names)"
   ]
  },
  {
   "cell_type": "code",
   "execution_count": null,
   "metadata": {
    "collapsed": false
   },
   "outputs": [],
   "source": []
  },
  {
   "cell_type": "code",
   "execution_count": 7,
   "metadata": {
    "collapsed": false
   },
   "outputs": [
    {
     "name": "stdout",
     "output_type": "stream",
     "text": [
      "(48L, 766910L) (48L,)\n",
      "[[ 0.  6.]\n",
      " [ 1.  4.]]\n",
      "[ 0.  0.  1.  0.  0.  1.  1.  1.  0.  0.]\n"
     ]
    }
   ],
   "source": [
    "print x_train.shape, y_train.shape\n",
    "#training, testing, y_training, y_testing = train_test_split(new_x_train, y_train, test_size=0.2, stratify=y_train, random_state=42)\n",
    "actual_training, validation, y_actual_training, y_validation = train_test_split(x_train, y_train, test_size=0.2, stratify=y_train, random_state=42)\n",
    "#print training.shape, testing.shape\n",
    "#print y_training, y_testing\n",
    "#print itemfreq(y_training)\n",
    "#print itemfreq(y_testing)\n",
    "print itemfreq(y_validation)\n",
    "#print itemfreq(y_train)\n",
    "\n",
    "print y_validation\n",
    "# print y_actual_training\n",
    "# print actual_training\n"
   ]
  },
  {
   "cell_type": "code",
   "execution_count": 8,
   "metadata": {
    "collapsed": false
   },
   "outputs": [
    {
     "name": "stdout",
     "output_type": "stream",
     "text": [
      "ACCURACY RESUTLS\n",
      "Mean Accuracy of 5 fold CV \tSTD \tValidation  \tTest\n",
      "0 0.629761904762 0.0553795397601 0.7 0.7\n",
      "ROC -  0.583333333333\n",
      "Accuracy -  0.7\n",
      "Confusion Matrix -  [[6 0]\n",
      " [3 1]]\n",
      "             precision    recall  f1-score   support\n",
      "\n",
      "    class 0       0.67      1.00      0.80         6\n",
      "    class 1       1.00      0.25      0.40         4\n",
      "\n",
      "avg / total       0.80      0.70      0.64        10\n",
      "\n"
     ]
    }
   ],
   "source": [
    "#Random Forest\n",
    "print \"ACCURACY RESUTLS\"    \n",
    "print \"Mean Accuracy of 5 fold CV\",\"\\t\", \"STD\",\"\\t\", \"Validation \",\"\\t\", \"Test\"        \n",
    "\n",
    "for i in xrange(1):\n",
    "    clf = RandomForestClassifier(n_estimators=95, class_weight='balanced',  random_state = 42)\n",
    "    clf.fit(actual_training, y_actual_training)\n",
    "    scores = cross_validation.cross_val_score(clf, actual_training, y_actual_training, cv=5)\n",
    "    y_pred_valid = clf.predict(validation)\n",
    "    print i, scores.mean(), scores.std(), accuracy_score(y_validation, y_pred_valid), accuracy_score(y_test, clf.predict(x_test))\n",
    "    \n",
    "print_results(clf, y_test, clf.predict(x_test), clf.predict_proba(x_test)[:,1] )"
   ]
  },
  {
   "cell_type": "code",
   "execution_count": 9,
   "metadata": {
    "collapsed": false
   },
   "outputs": [
    {
     "name": "stdout",
     "output_type": "stream",
     "text": [
      "ACCURACY RESUTLS\n",
      "Mean Accuracy of 5 fold CV \tSTD \tValidation  \tTest\n",
      "0 \t0.588888888889 \t0.142362459205 \t0.6 \t0.7\n",
      "ROC -  0.625\n",
      "Accuracy -  0.7\n",
      "Confusion Matrix -  [[4 2]\n",
      " [1 3]]\n",
      "             precision    recall  f1-score   support\n",
      "\n",
      "    class 0       0.80      0.67      0.73         6\n",
      "    class 1       0.60      0.75      0.67         4\n",
      "\n",
      "avg / total       0.72      0.70      0.70        10\n",
      "\n"
     ]
    }
   ],
   "source": [
    "#XGB\n",
    "    \n",
    "learning_r_col = [0.0001, 0.001, 0.01, 0.02, 0.03, 0.04,0.05,0.06,0.07,0.08,0.09,0.1]    \n",
    "    \n",
    "print \"ACCURACY RESUTLS\"    \n",
    "print \"Mean Accuracy of 5 fold CV\",\"\\t\", \"STD\",\"\\t\", \"Validation \",\"\\t\", \"Test\"        \n",
    "\n",
    "    \n",
    "for i in xrange(1):\n",
    "    clf = xgb.XGBClassifier(max_depth=3, n_estimators=5, learning_rate=0.001) #objective='multi:softprob'\n",
    "    clf.fit(actual_training, y_actual_training)\n",
    "    scores = cross_validation.cross_val_score(clf, actual_training, y_actual_training, cv=5)\n",
    "    y_pred_valid = clf.predict(validation)\n",
    "    print i, \"\\t\",scores.mean(),\"\\t\", scores.std(), \"\\t\",accuracy_score(y_validation, y_pred_valid), \"\\t\",accuracy_score(y_test, clf.predict(x_test))\n",
    "\n",
    "print_results(clf, y_test, clf.predict(x_test), clf.predict_proba(x_test)[:,1] )"
   ]
  },
  {
   "cell_type": "code",
   "execution_count": 10,
   "metadata": {
    "collapsed": false
   },
   "outputs": [
    {
     "name": "stdout",
     "output_type": "stream",
     "text": [
      "ACCURACY RESUTLS\n",
      "Mean Accuracy of 5 fold CV \tSTD \tValidation  \tTest\n",
      "0 0.616666666667 0.154376810261 0.6 0.6\n",
      "ROC -  0.541666666667\n",
      "Accuracy -  0.6\n",
      "Confusion Matrix -  [[5 1]\n",
      " [3 1]]\n",
      "             precision    recall  f1-score   support\n",
      "\n",
      "    class 0       0.62      0.83      0.71         6\n",
      "    class 1       0.50      0.25      0.33         4\n",
      "\n",
      "avg / total       0.57      0.60      0.56        10\n",
      "\n"
     ]
    }
   ],
   "source": [
    "#Logistic\n",
    "    \n",
    "print \"ACCURACY RESUTLS\"    \n",
    "print \"Mean Accuracy of 5 fold CV\",\"\\t\", \"STD\",\"\\t\", \"Validation \",\"\\t\", \"Test\"    \n",
    "    \n",
    "for i in xrange(1):  # , max_iter = i\n",
    "    clf = linear_model.LogisticRegression( class_weight='balanced', penalty = 'l1')\n",
    "    clf.fit(actual_training, y_actual_training)\n",
    "    scores = cross_validation.cross_val_score(clf, actual_training, y_actual_training, cv=5)\n",
    "    y_pred_valid = clf.predict(validation)\n",
    "    print i, scores.mean(), scores.std(), accuracy_score(y_validation, y_pred_valid), accuracy_score(y_test, clf.predict(x_test))\n",
    "    \n",
    "print_results(clf, y_test, clf.predict(x_test), clf.predict_proba(x_test)[:,1] )"
   ]
  },
  {
   "cell_type": "code",
   "execution_count": 11,
   "metadata": {
    "collapsed": false,
    "scrolled": true
   },
   "outputs": [
    {
     "name": "stdout",
     "output_type": "stream",
     "text": [
      "ACCURACY RESUTLS of 5 fold CV\n",
      "Mean Accuracy  \tSTD \tValidation  \tTest\n",
      "0 \t0.636111111111 \t0.0678513410682 \t0.6 \t0.7\n",
      "Confusion Matrix -  [[5 1]\n",
      " [2 2]]\n",
      "             precision    recall  f1-score   support\n",
      "\n",
      "    class 0       0.71      0.83      0.77         6\n",
      "    class 1       0.67      0.50      0.57         4\n",
      "\n",
      "avg / total       0.70      0.70      0.69        10\n",
      "\n"
     ]
    }
   ],
   "source": [
    "#Linear SVC\n",
    "    \n",
    "print \"ACCURACY RESUTLS of 5 fold CV\"    \n",
    "print \"Mean Accuracy \",\"\\t\", \"STD\",\"\\t\", \"Validation \",\"\\t\", \"Test\"    \n",
    "\n",
    "iter = [5,10,100,500,1000]\n",
    "\n",
    "for i in xrange(1):\n",
    "    clf = LinearSVC(class_weight = 'balanced', dual = False)\n",
    "    clf.fit(actual_training, y_actual_training)\n",
    "    scores = cross_validation.cross_val_score(clf, actual_training, y_actual_training, cv=5 )\n",
    "    y_pred_valid = clf.predict(validation)\n",
    "    print i, \"\\t\",scores.mean(),\"\\t\", scores.std(), \"\\t\",accuracy_score(y_validation, y_pred_valid), \"\\t\",accuracy_score(y_test, clf.predict(x_test))\n",
    "\n",
    "target_names = ['class 0', 'class 1']\n",
    "print 'Confusion Matrix - ', confusion_matrix(y_test, clf.predict(x_test))\n",
    "print classification_report(y_test, clf.predict(x_test), target_names=target_names)"
   ]
  },
  {
   "cell_type": "markdown",
   "metadata": {
    "collapsed": true
   },
   "source": []
  },
  {
   "cell_type": "markdown",
   "metadata": {
    "collapsed": false
   },
   "source": [
    "## Visualize the 3_1 Layer"
   ]
  },
  {
   "cell_type": "code",
   "execution_count": 3,
   "metadata": {
    "collapsed": false
   },
   "outputs": [
    {
     "name": "stderr",
     "output_type": "stream",
     "text": [
      "C:\\Users\\swaroop\\AppData\\Local\\Continuum\\Anaconda2\\lib\\site-packages\\ipykernel\\__main__.py:21: RuntimeWarning: invalid value encountered in divide\n"
     ]
    }
   ],
   "source": [
    "import numpy as np\n",
    "import PIL\n",
    "from matplotlib.pyplot import imshow\n",
    "import matplotlib.pyplot as plt\n",
    "import matplotlib.cm as cm\n",
    "from PIL import Image\n",
    "import time\n",
    "#from IPython.display import Image\n",
    "from IPython.display import display\n",
    "%matplotlib inline\n",
    "import os\n",
    "\n",
    "os.chdir('C:\\\\Users\\\\swaroop\\\\Downloads\\\\painters\\\\cnn_features\\\\april27\\\\3_1')\n",
    "\n",
    "list_im = []\n",
    "\n",
    "for i in xrange(1,255):\n",
    "    k = i*57\n",
    "    arr = np.genfromtxt('C:\\\\Users\\\\swaroop\\\\Downloads\\\\painters\\\\cnn_features\\\\april27\\\\das2_conv3_1.txt', skip_header=k, max_rows = 56)\n",
    "    \n",
    "    arr = arr/np.amax(arr)\n",
    "\n",
    "    im = Image.fromarray(np.uint8(cm.gist_heat(arr)*255))\n",
    "    \n",
    "    #imshow(im)\n",
    "    im.save('output'+str(i)+'.jpg')\n",
    "    list_im.append('C:\\\\Users\\\\swaroop\\\\Downloads\\\\painters\\\\cnn_features\\\\april27\\\\3_1\\\\output'+str(i)+'.jpg') \n",
    "    \n",
    "\n",
    "\n",
    "imgs    = [ PIL.Image.open(i) for i in list_im ]\n",
    "# pick the image which is the smallest, and resize the others to match it (can be arbitrary image shape here)\n",
    "min_shape = sorted( [(np.sum(i.size), i.size ) for i in imgs])[0][1]\n",
    "imgs_comb = np.hstack( (np.asarray( i.resize(min_shape) ) for i in imgs ) )\n",
    "\n",
    "# save that beautiful picture\n",
    "imgs_comb = PIL.Image.fromarray( imgs_comb)\n",
    "imgs_comb.save( 'Trifecta.jpg' )    \n",
    "\n",
    "# for a vertical stacking it is simple: use vstack\n",
    "imgs_comb = np.vstack( (np.asarray( i.resize(min_shape) ) for i in imgs ) )\n",
    "imgs_comb = PIL.Image.fromarray( imgs_comb)\n",
    "imgs_comb.save( 'Trifecta_vertical.jpg' )"
   ]
  },
  {
   "cell_type": "code",
   "execution_count": null,
   "metadata": {
    "collapsed": false
   },
   "outputs": [],
   "source": []
  },
  {
   "cell_type": "code",
   "execution_count": null,
   "metadata": {
    "collapsed": false
   },
   "outputs": [],
   "source": []
  },
  {
   "cell_type": "code",
   "execution_count": null,
   "metadata": {
    "collapsed": false
   },
   "outputs": [],
   "source": []
  },
  {
   "cell_type": "code",
   "execution_count": null,
   "metadata": {
    "collapsed": false
   },
   "outputs": [],
   "source": []
  },
  {
   "cell_type": "code",
   "execution_count": null,
   "metadata": {
    "collapsed": false
   },
   "outputs": [],
   "source": []
  },
  {
   "cell_type": "code",
   "execution_count": null,
   "metadata": {
    "collapsed": true
   },
   "outputs": [],
   "source": []
  }
 ],
 "metadata": {
  "anaconda-cloud": {},
  "kernelspec": {
   "display_name": "Python [conda root]",
   "language": "python",
   "name": "conda-root-py"
  },
  "language_info": {
   "codemirror_mode": {
    "name": "ipython",
    "version": 2
   },
   "file_extension": ".py",
   "mimetype": "text/x-python",
   "name": "python",
   "nbconvert_exporter": "python",
   "pygments_lexer": "ipython2",
   "version": "2.7.12"
  }
 },
 "nbformat": 4,
 "nbformat_minor": 1
}
