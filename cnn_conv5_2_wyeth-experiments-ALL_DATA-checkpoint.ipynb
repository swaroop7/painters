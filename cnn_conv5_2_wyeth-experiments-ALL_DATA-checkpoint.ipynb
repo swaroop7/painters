{
 "cells": [
  {
   "cell_type": "code",
   "execution_count": 3,
   "metadata": {
    "collapsed": false
   },
   "outputs": [],
   "source": [
    "'''\n",
    "make_submission() generates predictions for the Kaggle Painter by Numbers competion\n",
    "using simple features (image size, aspect ratio and bits/pixel^2)\n",
    "author: Swaroop Krothapalli - extended code of small yello duck\n",
    "https://github.com/swaroop7/painters\n",
    "'''\n",
    "import random\n",
    "import time\n",
    "import os\n",
    "import random\n",
    "import numpy as np\n",
    "import pandas as pd\n",
    "from PIL import Image\n",
    "from matplotlib import pyplot as plt\n",
    "from sklearn.cross_validation import KFold\n",
    "import cv2\n",
    "import numpy as np\n",
    "from sklearn.svm import SVC\n",
    "from sklearn.svm import LinearSVC\n",
    "from sklearn.ensemble import RandomForestClassifier\n",
    "from sklearn.metrics import roc_auc_score  \n",
    "from sklearn.naive_bayes import GaussianNB\n",
    "from sklearn.naive_bayes import BernoulliNB\n",
    "from sklearn.cross_validation import train_test_split\n",
    "from sklearn.metrics import confusion_matrix\n",
    "from sklearn.metrics import accuracy_score\n",
    "from sklearn.metrics import precision_score\n",
    "from sklearn.metrics import recall_score\n",
    "from sklearn.metrics import f1_score\n",
    "from sklearn.metrics import roc_curve, auc\n",
    "from scipy.stats import itemfreq\n",
    "from sklearn import neighbors, linear_model\n",
    "from sklearn.metrics import classification_report\n",
    "import xgboost as xgb\n",
    "from sklearn import cross_validation\n",
    "np.set_printoptions(precision=3, linewidth=100)\n",
    "\n",
    "mingw_path = 'C:\\\\Program Files\\\\mingw-w64\\\\x86_64-5.3.0-posix-seh-rt_v4-rev0\\\\mingw64\\\\bin'\n",
    "os.environ['PATH'] = mingw_path + ';' + os.environ['PATH']\n",
    "\n",
    "os.chdir('C:\\\\Users\\\\swaroop\\\\Downloads\\\\painters\\\\cnn_features')"
   ]
  },
  {
   "cell_type": "code",
   "execution_count": 2,
   "metadata": {
    "collapsed": false
   },
   "outputs": [
    {
     "data": {
      "text/plain": [
       "'\\ninput_file = open(\\'C:\\\\Users\\\\swaroop\\\\Downloads\\\\painters\\\\cnn_features\\\\train_conv5_1.txt\\')\\noutput_file = open(\\'C:\\\\Users\\\\swaroop\\\\Downloads\\\\painters\\\\cnn_features\\\\train_processed_conv5_1_v1.txt\\',\\'w\\')\\n\\nrandom = {}\\n\\nfor line in input_file:\\n    new_line = \\'\\'\\n    print len(random)\\n    for each_word in line.split():\\n        words = each_word.strip().split(\":\")\\n        if \\':\\' in each_word:\\n            if words[0] not in random.keys():\\n                random[words[0]] = 0.\\n\\nprint \\'part 1 done\\'\\nfor line in input_file:\\n    for each_word in line.split():\\n        words = each_word.strip().split(\":\")\\n        if \\':\\' in each_word:\\n            random[words[0]] = round(float(words[1]), 4)\\n            \\n    for key,value in random.items():\\n        output_file.write(str(value)+\\' \\')\\n        random[key] = 0.\\n    output_file.write(\\'\\n\\')\\n    print \\'line done\\'\\ninput_file.close()\\noutput_file.close()\\n'"
      ]
     },
     "execution_count": 2,
     "metadata": {},
     "output_type": "execute_result"
    }
   ],
   "source": [
    "'''\n",
    "input_file = open('C:\\\\Users\\\\swaroop\\\\Downloads\\\\painters\\\\cnn_features\\\\april_9\\\\train_pilot_conv5_1.txt')\n",
    "output_file = open('C:\\\\Users\\\\swaroop\\\\Downloads\\\\painters\\\\cnn_features\\\\april_9\\\\train_pilot_processed_conv5_1.txt','w')\n",
    "\n",
    "random = {}\n",
    "\n",
    "for line in input_file:\n",
    "    new_line = ''\n",
    "    print len(random)\n",
    "    for each_word in line.split():\n",
    "        words = each_word.strip().split(\":\")\n",
    "        if ':' in each_word:\n",
    "            if words[0] not in random.keys():\n",
    "                random[words[0]] = 0.\n",
    "\n",
    "print 'part 1 done'\n",
    "for line in input_file:\n",
    "    for each_word in line.split():\n",
    "        words = each_word.strip().split(\":\")\n",
    "        if ':' in each_word:\n",
    "            random[words[0]] = round(float(words[1]), 4)\n",
    "            \n",
    "    for key,value in random.items():\n",
    "        output_file.write(str(value)+' ')\n",
    "        random[key] = 0.\n",
    "    output_file.write('\\n')\n",
    "    \n",
    "input_file.close()\n",
    "output_file.close()\n",
    "'''\n"
   ]
  },
  {
   "cell_type": "code",
   "execution_count": null,
   "metadata": {
    "collapsed": false
   },
   "outputs": [
    {
     "data": {
      "text/plain": [
       "'\\ninput_file = open(\\'C:\\\\Users\\\\swaroop\\\\Downloads\\\\painters\\\\cnn_features\\\\test_conv5_1.txt\\')\\noutput_file = open(\\'C:\\\\Users\\\\swaroop\\\\Downloads\\\\painters\\\\cnn_features\\\\test_processed_conv5_1_v1.txt\\',\\'w\\')\\n\\nfor line in input_file:\\n    for each_word in line.split():\\n        words = each_word.strip().split(\":\")\\n        if \\':\\' in each_word:\\n            random[words[0]] = round(float(words[1]), 4)\\n            \\n    for key,value in random.items():\\n        output_file.write(str(value)+\\' \\')\\n        random[key] = 0.\\n    output_file.write(\\'\\n\\')\\n    \\ninput_file.close()\\noutput_file.close()\\n'"
      ]
     },
     "execution_count": 3,
     "metadata": {},
     "output_type": "execute_result"
    }
   ],
   "source": [
    "'''\n",
    "\n",
    "input_file = open('C:\\\\Users\\\\swaroop\\\\Downloads\\\\painters\\\\cnn_features\\\\test_pilot_conv5_1.txt')\n",
    "output_file = open('C:\\\\Users\\\\swaroop\\\\Downloads\\\\painters\\\\cnn_features\\\\test_pilot_processed_conv5_1.txt','w')\n",
    "\n",
    "for line in input_file:\n",
    "    for each_word in line.split():\n",
    "        words = each_word.strip().split(\":\")\n",
    "        if ':' in each_word and words[0] in random.keys():\n",
    "            random[words[0]] = round(float(words[1]), 4)\n",
    "            \n",
    "    for key,value in random.items():\n",
    "        output_file.write(str(value)+' ')\n",
    "        random[key] = 0.\n",
    "    print 'line done'\n",
    "    output_file.write('\\n')\n",
    "    \n",
    "input_file.close()\n",
    "output_file.close()\n",
    "'''\n"
   ]
  },
  {
   "cell_type": "code",
   "execution_count": 9,
   "metadata": {
    "collapsed": false
   },
   "outputs": [
    {
     "name": "stdout",
     "output_type": "stream",
     "text": [
      "(48L, 94072L)\n",
      "(48L, 94072L)\n",
      "(10L, 94072L)\n",
      "(48L,)\n",
      "(10L,)\n"
     ]
    }
   ],
   "source": [
    "x_train = np.loadtxt('C:\\\\Users\\\\swaroop\\\\Downloads\\\\painters\\\\cnn_features\\\\april9\\\\train_processed_conv5_1_APRIL8.txt')\n",
    "y_train = np.loadtxt('C:\\\\Users\\\\swaroop\\\\Downloads\\\\painters\\\\cnn_features\\\\y_train_conv5_1.txt')\n",
    "x_test = np.loadtxt('C:\\\\Users\\\\swaroop\\\\Downloads\\\\painters\\\\cnn_features\\\\april9\\\\test_conv5_1_processed_APRIL8.txt')\n",
    "y_test = np.loadtxt('C:\\\\Users\\\\swaroop\\\\Downloads\\\\painters\\\\cnn_features\\\\y_test_conv5_1.txt')\n",
    "\n",
    "print x_train.shape\n",
    "\n",
    "'''\n",
    "rand_numbers = []\n",
    "\n",
    "for x in range(1,500):\n",
    "    rand_numbers.append(random.randint(1,79928))\n",
    "    \n",
    "new_x_train = x_train[:, rand_numbers]\n",
    "\n",
    "new_x_test = x_test[:, rand_numbers]\n",
    "'''\n",
    "print x_train.shape\n",
    "print x_test.shape\n",
    "print y_train.shape\n",
    "print y_test.shape"
   ]
  },
  {
   "cell_type": "code",
   "execution_count": null,
   "metadata": {
    "collapsed": true
   },
   "outputs": [],
   "source": []
  },
  {
   "cell_type": "code",
   "execution_count": 10,
   "metadata": {
    "collapsed": false
   },
   "outputs": [],
   "source": [
    "def print_results(clf, y_test, y_pred, y_pred_prob):\n",
    "    #y_pred_prob = clf.predict_proba(y_test)[:,1]\n",
    "    #y_pred = clf.predict(y_test)\n",
    "    print 'ROC - ',roc_auc_score(y_test, y_pred_prob)\n",
    "    print 'Accuracy - ',accuracy_score(y_test, y_pred)\n",
    "    print 'Confusion Matrix - ', confusion_matrix(y_test, y_pred)\n",
    "    #print 'Precision - ',precision_score(y_test, y_pred ),'Recall - ',recall_score(y_test, y_pred),'F1- Score',f1_score(y_test, y_pred),'\\n'\n",
    "    target_names = ['class 0', 'class 1']\n",
    "    print classification_report(y_test, y_pred, target_names=target_names)"
   ]
  },
  {
   "cell_type": "code",
   "execution_count": null,
   "metadata": {
    "collapsed": false
   },
   "outputs": [],
   "source": []
  },
  {
   "cell_type": "code",
   "execution_count": 11,
   "metadata": {
    "collapsed": false
   },
   "outputs": [
    {
     "name": "stdout",
     "output_type": "stream",
     "text": [
      "(48L, 94072L) (48L,)\n",
      "[[ 0.  6.]\n",
      " [ 1.  4.]]\n",
      "[ 0.  0.  1.  0.  0.  1.  1.  1.  0.  0.]\n"
     ]
    }
   ],
   "source": [
    "print x_train.shape, y_train.shape\n",
    "#training, testing, y_training, y_testing = train_test_split(new_x_train, y_train, test_size=0.2, stratify=y_train, random_state=42)\n",
    "actual_training, validation, y_actual_training, y_validation = train_test_split(x_train, y_train, test_size=0.2, stratify=y_train, random_state=42)\n",
    "#print training.shape, testing.shape\n",
    "#print y_training, y_testing\n",
    "#print itemfreq(y_training)\n",
    "#print itemfreq(y_testing)\n",
    "print itemfreq(y_validation)\n",
    "#print itemfreq(y_train)\n",
    "\n",
    "print y_validation\n",
    "# print y_actual_training\n",
    "# print actual_training\n"
   ]
  },
  {
   "cell_type": "code",
   "execution_count": 26,
   "metadata": {
    "collapsed": false
   },
   "outputs": [
    {
     "name": "stdout",
     "output_type": "stream",
     "text": [
      "ACCURACY RESUTLS\n",
      "Mean Accuracy of 5 fold CV \tSTD \tValidation  \tTest\n",
      "0 0.658333333333 0.105650989202 0.6 0.5\n",
      "ROC -  0.479166666667\n",
      "Accuracy -  0.5\n",
      "Confusion Matrix -  [[3 3]\n",
      " [2 2]]\n",
      "             precision    recall  f1-score   support\n",
      "\n",
      "    class 0       0.60      0.50      0.55         6\n",
      "    class 1       0.40      0.50      0.44         4\n",
      "\n",
      "avg / total       0.52      0.50      0.51        10\n",
      "\n"
     ]
    }
   ],
   "source": [
    "#Random Forest\n",
    "print \"ACCURACY RESUTLS\"    \n",
    "print \"Mean Accuracy of 5 fold CV\",\"\\t\", \"STD\",\"\\t\", \"Validation \",\"\\t\", \"Test\"        \n",
    "\n",
    "for i in xrange(1):\n",
    "    clf = RandomForestClassifier(n_estimators=42, class_weight='balanced',  random_state = 42)\n",
    "    clf.fit(actual_training, y_actual_training)\n",
    "    scores = cross_validation.cross_val_score(clf, actual_training, y_actual_training, cv=5)\n",
    "    y_pred_valid = clf.predict(validation)\n",
    "    print i, scores.mean(), scores.std(), accuracy_score(y_validation, y_pred_valid), accuracy_score(y_test, clf.predict(x_test))\n",
    "    \n",
    "print_results(clf, y_test, clf.predict(x_test), clf.predict_proba(x_test)[:,1] )"
   ]
  },
  {
   "cell_type": "code",
   "execution_count": 25,
   "metadata": {
    "collapsed": false
   },
   "outputs": [
    {
     "name": "stdout",
     "output_type": "stream",
     "text": [
      "ACCURACY RESUTLS\n",
      "Mean Accuracy of 5 fold CV \tSTD \tValidation  \tTest\n",
      "0 \t0.610317460317 \t0.168814579666 \t0.6 \t0.4\n",
      "ROC -  0.458333333333\n",
      "Accuracy -  0.4\n",
      "Confusion Matrix -  [[2 4]\n",
      " [2 2]]\n",
      "             precision    recall  f1-score   support\n",
      "\n",
      "    class 0       0.50      0.33      0.40         6\n",
      "    class 1       0.33      0.50      0.40         4\n",
      "\n",
      "avg / total       0.43      0.40      0.40        10\n",
      "\n"
     ]
    }
   ],
   "source": [
    "#XGB\n",
    "    \n",
    "learning_r_col = [0.0001, 0.001, 0.01, 0.02, 0.03, 0.04,0.05,0.06,0.07,0.08,0.09,0.1]    \n",
    "    \n",
    "print \"ACCURACY RESUTLS\"    \n",
    "print \"Mean Accuracy of 5 fold CV\",\"\\t\", \"STD\",\"\\t\", \"Validation \",\"\\t\", \"Test\"        \n",
    "\n",
    "    \n",
    "for i in xrange(1):\n",
    "    clf = xgb.XGBClassifier(max_depth=2, n_estimators=5, learning_rate=0.001) #objective='multi:softprob'\n",
    "    clf.fit(actual_training, y_actual_training)\n",
    "    scores = cross_validation.cross_val_score(clf, actual_training, y_actual_training, cv=5)\n",
    "    y_pred_valid = clf.predict(validation)\n",
    "    print i, \"\\t\",scores.mean(),\"\\t\", scores.std(), \"\\t\",accuracy_score(y_validation, y_pred_valid), \"\\t\",accuracy_score(y_test, clf.predict(x_test))\n",
    "\n",
    "print_results(clf, y_test, clf.predict(x_test), clf.predict_proba(x_test)[:,1] )"
   ]
  },
  {
   "cell_type": "code",
   "execution_count": 21,
   "metadata": {
    "collapsed": false
   },
   "outputs": [
    {
     "name": "stdout",
     "output_type": "stream",
     "text": [
      "ACCURACY RESUTLS\n",
      "Mean Accuracy of 5 fold CV \tSTD \tValidation  \tTest\n",
      "0 0.762698412698 0.0529074073413 0.8 0.5\n",
      "ROC -  0.5\n",
      "Accuracy -  0.5\n",
      "Confusion Matrix -  [[3 3]\n",
      " [2 2]]\n",
      "             precision    recall  f1-score   support\n",
      "\n",
      "    class 0       0.60      0.50      0.55         6\n",
      "    class 1       0.40      0.50      0.44         4\n",
      "\n",
      "avg / total       0.52      0.50      0.51        10\n",
      "\n"
     ]
    }
   ],
   "source": [
    "#Logistic\n",
    "    \n",
    "print \"ACCURACY RESUTLS\"    \n",
    "print \"Mean Accuracy of 5 fold CV\",\"\\t\", \"STD\",\"\\t\", \"Validation \",\"\\t\", \"Test\"    \n",
    "    \n",
    "for i in xrange(1):  # , max_iter = i\n",
    "    clf = linear_model.LogisticRegression( class_weight='balanced', penalty = 'l1')\n",
    "    clf.fit(actual_training, y_actual_training)\n",
    "    scores = cross_validation.cross_val_score(clf, actual_training, y_actual_training, cv=5)\n",
    "    y_pred_valid = clf.predict(validation)\n",
    "    print i, scores.mean(), scores.std(), accuracy_score(y_validation, y_pred_valid), accuracy_score(y_test, clf.predict(x_test))\n",
    "    \n",
    "print_results(clf, y_test, clf.predict(x_test), clf.predict_proba(x_test)[:,1] )"
   ]
  },
  {
   "cell_type": "code",
   "execution_count": 19,
   "metadata": {
    "collapsed": false,
    "scrolled": true
   },
   "outputs": [
    {
     "name": "stdout",
     "output_type": "stream",
     "text": [
      "ACCURACY RESUTLS of 5 fold CV\n",
      "Mean Accuracy  \tSTD \tValidation  \tTest\n",
      "0 \t0.822619047619 \t0.0782822962989 \t0.9 \t0.5\n",
      "Confusion Matrix -  [[3 3]\n",
      " [2 2]]\n",
      "             precision    recall  f1-score   support\n",
      "\n",
      "    class 0       0.60      0.50      0.55         6\n",
      "    class 1       0.40      0.50      0.44         4\n",
      "\n",
      "avg / total       0.52      0.50      0.51        10\n",
      "\n"
     ]
    }
   ],
   "source": [
    "#Linear SVC\n",
    "    \n",
    "print \"ACCURACY RESUTLS of 5 fold CV\"    \n",
    "print \"Mean Accuracy \",\"\\t\", \"STD\",\"\\t\", \"Validation \",\"\\t\", \"Test\"    \n",
    "\n",
    "iter = [5,10,100,500,1000]\n",
    "\n",
    "for i in xrange(1):\n",
    "    clf = LinearSVC(class_weight = 'balanced', dual = False)\n",
    "    clf.fit(actual_training, y_actual_training)\n",
    "    scores = cross_validation.cross_val_score(clf, actual_training, y_actual_training, cv=5 )\n",
    "    y_pred_valid = clf.predict(validation)\n",
    "    print i, \"\\t\",scores.mean(),\"\\t\", scores.std(), \"\\t\",accuracy_score(y_validation, y_pred_valid), \"\\t\",accuracy_score(y_test, clf.predict(x_test))\n",
    "\n",
    "target_names = ['class 0', 'class 1']\n",
    "print 'Confusion Matrix - ', confusion_matrix(y_test, clf.predict(x_test))\n",
    "print classification_report(y_test, clf.predict(x_test), target_names=target_names)"
   ]
  },
  {
   "cell_type": "markdown",
   "metadata": {
    "collapsed": true
   },
   "source": []
  },
  {
   "cell_type": "code",
   "execution_count": null,
   "metadata": {
    "collapsed": false
   },
   "outputs": [],
   "source": []
  },
  {
   "cell_type": "code",
   "execution_count": null,
   "metadata": {
    "collapsed": false
   },
   "outputs": [],
   "source": []
  },
  {
   "cell_type": "code",
   "execution_count": null,
   "metadata": {
    "collapsed": false
   },
   "outputs": [],
   "source": []
  },
  {
   "cell_type": "code",
   "execution_count": null,
   "metadata": {
    "collapsed": false
   },
   "outputs": [],
   "source": []
  },
  {
   "cell_type": "code",
   "execution_count": null,
   "metadata": {
    "collapsed": false
   },
   "outputs": [],
   "source": []
  },
  {
   "cell_type": "code",
   "execution_count": null,
   "metadata": {
    "collapsed": false
   },
   "outputs": [],
   "source": []
  },
  {
   "cell_type": "code",
   "execution_count": null,
   "metadata": {
    "collapsed": false
   },
   "outputs": [],
   "source": []
  },
  {
   "cell_type": "code",
   "execution_count": null,
   "metadata": {
    "collapsed": true
   },
   "outputs": [],
   "source": []
  }
 ],
 "metadata": {
  "anaconda-cloud": {},
  "kernelspec": {
   "display_name": "Python [conda root]",
   "language": "python",
   "name": "conda-root-py"
  },
  "language_info": {
   "codemirror_mode": {
    "name": "ipython",
    "version": 2
   },
   "file_extension": ".py",
   "mimetype": "text/x-python",
   "name": "python",
   "nbconvert_exporter": "python",
   "pygments_lexer": "ipython2",
   "version": "2.7.12"
  }
 },
 "nbformat": 4,
 "nbformat_minor": 1
}
