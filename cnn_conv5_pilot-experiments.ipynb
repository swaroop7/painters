{
 "cells": [
  {
   "cell_type": "code",
   "execution_count": 2,
   "metadata": {
    "collapsed": false
   },
   "outputs": [
    {
     "name": "stderr",
     "output_type": "stream",
     "text": [
      "C:\\Users\\swaroop\\AppData\\Local\\Continuum\\Anaconda2\\lib\\site-packages\\sklearn\\cross_validation.py:44: DeprecationWarning: This module was deprecated in version 0.18 in favor of the model_selection module into which all the refactored classes and functions are moved. Also note that the interface of the new CV iterators are different from that of this module. This module will be removed in 0.20.\n",
      "  \"This module will be removed in 0.20.\", DeprecationWarning)\n"
     ]
    }
   ],
   "source": [
    "'''\n",
    "make_submission() generates predictions for the Kaggle Painter by Numbers competion\n",
    "using simple features (image size, aspect ratio and bits/pixel^2)\n",
    "author: Swaroop Krothapalli - extended code of small yello duck\n",
    "https://github.com/swaroop7/painters\n",
    "'''\n",
    "import random\n",
    "import time\n",
    "import os\n",
    "import random\n",
    "import numpy as np\n",
    "import pandas as pd\n",
    "from PIL import Image\n",
    "from matplotlib import pyplot as plt\n",
    "from sklearn.cross_validation import KFold\n",
    "import cv2\n",
    "import numpy as np\n",
    "from sklearn.svm import SVC\n",
    "from sklearn.svm import LinearSVC\n",
    "from sklearn.ensemble import RandomForestClassifier\n",
    "from sklearn.metrics import roc_auc_score  \n",
    "from sklearn.naive_bayes import GaussianNB\n",
    "from sklearn.naive_bayes import BernoulliNB\n",
    "from sklearn.cross_validation import train_test_split\n",
    "from sklearn.metrics import confusion_matrix\n",
    "from sklearn.metrics import accuracy_score\n",
    "from sklearn.metrics import precision_score\n",
    "from sklearn.metrics import recall_score\n",
    "from sklearn.metrics import f1_score\n",
    "from sklearn.metrics import roc_curve, auc\n",
    "from scipy.stats import itemfreq\n",
    "from sklearn import neighbors, linear_model\n",
    "from sklearn.metrics import classification_report\n",
    "import xgboost as xgb\n",
    "from sklearn import cross_validation\n",
    "np.set_printoptions(precision=3, linewidth=100)\n",
    "\n",
    "mingw_path = 'C:\\\\Program Files\\\\mingw-w64\\\\x86_64-5.3.0-posix-seh-rt_v4-rev0\\\\mingw64\\\\bin'\n",
    "os.environ['PATH'] = mingw_path + ';' + os.environ['PATH']\n",
    "\n",
    "os.chdir('C:\\\\Users\\\\swaroop\\\\Downloads\\\\painters\\\\cnn_features')"
   ]
  },
  {
   "cell_type": "code",
   "execution_count": 2,
   "metadata": {
    "collapsed": false
   },
   "outputs": [
    {
     "data": {
      "text/plain": [
       "'\\ninput_file = open(\\'C:\\\\Users\\\\swaroop\\\\Downloads\\\\painters\\\\cnn_features\\\\train_conv5_1.txt\\')\\noutput_file = open(\\'C:\\\\Users\\\\swaroop\\\\Downloads\\\\painters\\\\cnn_features\\\\train_processed_conv5_1_v1.txt\\',\\'w\\')\\n\\nrandom = {}\\n\\nfor line in input_file:\\n    new_line = \\'\\'\\n    print len(random)\\n    for each_word in line.split():\\n        words = each_word.strip().split(\":\")\\n        if \\':\\' in each_word:\\n            if words[0] not in random.keys():\\n                random[words[0]] = 0.\\n\\nprint \\'part 1 done\\'\\nfor line in input_file:\\n    for each_word in line.split():\\n        words = each_word.strip().split(\":\")\\n        if \\':\\' in each_word:\\n            random[words[0]] = round(float(words[1]), 4)\\n            \\n    for key,value in random.items():\\n        output_file.write(str(value)+\\' \\')\\n        random[key] = 0.\\n    output_file.write(\\'\\n\\')\\n    print \\'line done\\'\\ninput_file.close()\\noutput_file.close()\\n'"
      ]
     },
     "execution_count": 2,
     "metadata": {},
     "output_type": "execute_result"
    }
   ],
   "source": [
    "\n",
    "input_file = open('C:\\\\Users\\\\swaroop\\\\Downloads\\\\painters\\\\cnn_features\\\\train_pilot_conv5_1.txt')\n",
    "output_file = open('C:\\\\Users\\\\swaroop\\\\Downloads\\\\painters\\\\cnn_features\\\\train_pilot_processed_conv5_1.txt','w')\n",
    "\n",
    "random = {}\n",
    "\n",
    "for line in input_file:\n",
    "    new_line = ''\n",
    "    print len(random)\n",
    "    for each_word in line.split():\n",
    "        words = each_word.strip().split(\":\")\n",
    "        if ':' in each_word:\n",
    "            if words[0] not in random.keys():\n",
    "                random[words[0]] = 0.\n",
    "\n",
    "print 'part 1 done'\n",
    "for line in input_file:\n",
    "    for each_word in line.split():\n",
    "        words = each_word.strip().split(\":\")\n",
    "        if ':' in each_word:\n",
    "            random[words[0]] = round(float(words[1]), 4)\n",
    "            \n",
    "    for key,value in random.items():\n",
    "        output_file.write(str(value)+' ')\n",
    "        random[key] = 0.\n",
    "    output_file.write('\\n')\n",
    "    \n",
    "input_file.close()\n",
    "output_file.close()\n"
   ]
  },
  {
   "cell_type": "code",
   "execution_count": null,
   "metadata": {
    "collapsed": false
   },
   "outputs": [
    {
     "data": {
      "text/plain": [
       "'\\ninput_file = open(\\'C:\\\\Users\\\\swaroop\\\\Downloads\\\\painters\\\\cnn_features\\\\test_conv5_1.txt\\')\\noutput_file = open(\\'C:\\\\Users\\\\swaroop\\\\Downloads\\\\painters\\\\cnn_features\\\\test_processed_conv5_1_v1.txt\\',\\'w\\')\\n\\nfor line in input_file:\\n    for each_word in line.split():\\n        words = each_word.strip().split(\":\")\\n        if \\':\\' in each_word:\\n            random[words[0]] = round(float(words[1]), 4)\\n            \\n    for key,value in random.items():\\n        output_file.write(str(value)+\\' \\')\\n        random[key] = 0.\\n    output_file.write(\\'\\n\\')\\n    \\ninput_file.close()\\noutput_file.close()\\n'"
      ]
     },
     "execution_count": 3,
     "metadata": {},
     "output_type": "execute_result"
    }
   ],
   "source": [
    "\n",
    "input_file = open('C:\\\\Users\\\\swaroop\\\\Downloads\\\\painters\\\\cnn_features\\\\test_pilot_conv5_1.txt')\n",
    "output_file = open('C:\\\\Users\\\\swaroop\\\\Downloads\\\\painters\\\\cnn_features\\\\test_pilot_processed_conv5_1.txt','w')\n",
    "\n",
    "for line in input_file:\n",
    "    for each_word in line.split():\n",
    "        words = each_word.strip().split(\":\")\n",
    "        if ':' in each_word and words[0] in random.keys():\n",
    "            random[words[0]] = round(float(words[1]), 4)\n",
    "            \n",
    "    for key,value in random.items():\n",
    "        output_file.write(str(value)+' ')\n",
    "        random[key] = 0.\n",
    "    print 'line done'\n",
    "    output_file.write('\\n')\n",
    "    \n",
    "input_file.close()\n",
    "output_file.close()\n"
   ]
  },
  {
   "cell_type": "code",
   "execution_count": 5,
   "metadata": {
    "collapsed": false
   },
   "outputs": [
    {
     "name": "stdout",
     "output_type": "stream",
     "text": [
      "(23L, 80956L)\n",
      "(23L, 499L)\n",
      "(8L, 499L)\n"
     ]
    }
   ],
   "source": [
    "x_train = np.loadtxt('C:\\\\Users\\\\swaroop\\\\Downloads\\\\painters\\\\cnn_features\\\\train_pilot_processed_conv5_1.txt')\n",
    "y_train = np.loadtxt('C:\\\\Users\\\\swaroop\\\\Downloads\\\\painters\\\\cnn_features\\\\y_train_pilot.txt')\n",
    "x_test = np.loadtxt('C:\\\\Users\\\\swaroop\\\\Downloads\\\\painters\\\\cnn_features\\\\test_pilot_processed_conv5_1.txt')\n",
    "y_test = np.loadtxt('C:\\\\Users\\\\swaroop\\\\Downloads\\\\painters\\\\cnn_features\\\\y_test_pilot.txt')\n",
    "\n",
    "print x_train.shape\n",
    "\n",
    "rand_numbers = []\n",
    "\n",
    "for x in range(1,500):\n",
    "    rand_numbers.append(random.randint(1,79928))\n",
    "    \n",
    "new_x_train = x_train[:, rand_numbers]\n",
    "\n",
    "new_x_test = x_test[:, rand_numbers]\n",
    "\n",
    "print new_x_train.shape\n",
    "print new_x_test.shape"
   ]
  },
  {
   "cell_type": "code",
   "execution_count": null,
   "metadata": {
    "collapsed": true
   },
   "outputs": [],
   "source": []
  },
  {
   "cell_type": "code",
   "execution_count": 6,
   "metadata": {
    "collapsed": false
   },
   "outputs": [],
   "source": [
    "def print_results(clf, y_test, y_pred, y_pred_prob):\n",
    "    #y_pred_prob = clf.predict_proba(y_test)[:,1]\n",
    "    #y_pred = clf.predict(y_test)\n",
    "    print 'ROC - ',roc_auc_score(y_test, y_pred_prob)\n",
    "    print 'Accuracy - ',accuracy_score(y_test, y_pred)\n",
    "    print 'Confusion Matrix - ', confusion_matrix(y_test, y_pred)\n",
    "    #print 'Precision - ',precision_score(y_test, y_pred ),'Recall - ',recall_score(y_test, y_pred),'F1- Score',f1_score(y_test, y_pred),'\\n'\n",
    "    target_names = ['class 0', 'class 1']\n",
    "    print classification_report(y_test, y_pred, target_names=target_names)"
   ]
  },
  {
   "cell_type": "code",
   "execution_count": null,
   "metadata": {
    "collapsed": false
   },
   "outputs": [],
   "source": []
  },
  {
   "cell_type": "code",
   "execution_count": 7,
   "metadata": {
    "collapsed": false
   },
   "outputs": [
    {
     "name": "stdout",
     "output_type": "stream",
     "text": [
      "(23L, 80956L) (23L,)\n",
      "[[ 0.  3.]\n",
      " [ 1.  2.]]\n",
      "[ 1.  0.  0.  0.  1.]\n"
     ]
    }
   ],
   "source": [
    "print x_train.shape, y_train.shape\n",
    "#training, testing, y_training, y_testing = train_test_split(new_x_train, y_train, test_size=0.2, stratify=y_train, random_state=42)\n",
    "actual_training, validation, y_actual_training, y_validation = train_test_split(new_x_train, y_train, test_size=0.2, stratify=y_train, random_state=42)\n",
    "#print training.shape, testing.shape\n",
    "#print y_training, y_testing\n",
    "#print itemfreq(y_training)\n",
    "#print itemfreq(y_testing)\n",
    "print itemfreq(y_validation)\n",
    "#print itemfreq(y_train)\n",
    "\n",
    "print y_validation\n",
    "# print y_actual_training\n",
    "# print actual_training\n"
   ]
  },
  {
   "cell_type": "code",
   "execution_count": 11,
   "metadata": {
    "collapsed": false
   },
   "outputs": [
    {
     "name": "stdout",
     "output_type": "stream",
     "text": [
      "ACCURACY RESUTLS\n",
      "Mean Accuracy of 5 fold CV \tSTD \tValidation  \tTest\n",
      "0 0.85 0.2 0.8 0.75\n",
      "ROC -  0.9375\n",
      "Accuracy -  0.75\n",
      "Confusion Matrix -  [[3 1]\n",
      " [1 3]]\n",
      "             precision    recall  f1-score   support\n",
      "\n",
      "    class 0       0.75      0.75      0.75         4\n",
      "    class 1       0.75      0.75      0.75         4\n",
      "\n",
      "avg / total       0.75      0.75      0.75         8\n",
      "\n"
     ]
    }
   ],
   "source": [
    "#Random Forest\n",
    "print \"ACCURACY RESUTLS\"    \n",
    "print \"Mean Accuracy of 5 fold CV\",\"\\t\", \"STD\",\"\\t\", \"Validation \",\"\\t\", \"Test\"        \n",
    "\n",
    "for i in xrange(1):\n",
    "    clf = RandomForestClassifier(n_estimators=80, class_weight='balanced',  random_state = 42)\n",
    "    clf.fit(actual_training, y_actual_training)\n",
    "    scores = cross_validation.cross_val_score(clf, actual_training, y_actual_training, cv=5)\n",
    "    y_pred_valid = clf.predict(validation)\n",
    "    print i, scores.mean(), scores.std(), accuracy_score(y_validation, y_pred_valid), accuracy_score(y_test, clf.predict(new_x_test))\n",
    "    \n",
    "print_results(clf, y_test, clf.predict(new_x_test), clf.predict_proba(new_x_test)[:,1] )"
   ]
  },
  {
   "cell_type": "code",
   "execution_count": 32,
   "metadata": {
    "collapsed": false
   },
   "outputs": [
    {
     "name": "stdout",
     "output_type": "stream",
     "text": [
      "ACCURACY RESUTLS\n",
      "Mean Accuracy of 5 fold CV \tSTD \tValidation  \tTest\n",
      "0 \t0.6 \t0.2 \t0.6 \t0.625\n",
      "ROC -  0.71875\n",
      "Accuracy -  0.625\n",
      "Confusion Matrix -  [[4 0]\n",
      " [3 1]]\n",
      "             precision    recall  f1-score   support\n",
      "\n",
      "    class 0       0.57      1.00      0.73         4\n",
      "    class 1       1.00      0.25      0.40         4\n",
      "\n",
      "avg / total       0.79      0.62      0.56         8\n",
      "\n"
     ]
    }
   ],
   "source": [
    "#XGB\n",
    "    \n",
    "learning_r_col = [0.0001, 0.001, 0.01, 0.02, 0.03, 0.04,0.05,0.06,0.07,0.08,0.09,0.1]    \n",
    "    \n",
    "print \"ACCURACY RESUTLS\"    \n",
    "print \"Mean Accuracy of 5 fold CV\",\"\\t\", \"STD\",\"\\t\", \"Validation \",\"\\t\", \"Test\"        \n",
    "\n",
    "    \n",
    "for i in xrange(1):\n",
    "    clf = xgb.XGBClassifier(max_depth=4, n_estimators=5, learning_rate=0.001) #objective='multi:softprob'\n",
    "    clf.fit(actual_training, y_actual_training)\n",
    "    scores = cross_validation.cross_val_score(clf, actual_training, y_actual_training, cv=5)\n",
    "    y_pred_valid = clf.predict(validation)\n",
    "    print i, \"\\t\",scores.mean(),\"\\t\", scores.std(), \"\\t\",accuracy_score(y_validation, y_pred_valid), \"\\t\",accuracy_score(y_test, clf.predict(new_x_test))\n",
    "\n",
    "print_results(clf, y_test, clf.predict(new_x_test), clf.predict_proba(new_x_test)[:,1] )"
   ]
  },
  {
   "cell_type": "code",
   "execution_count": 21,
   "metadata": {
    "collapsed": false
   },
   "outputs": [
    {
     "name": "stdout",
     "output_type": "stream",
     "text": [
      "ACCURACY RESUTLS\n",
      "Mean Accuracy of 5 fold CV \tSTD \tValidation  \tTest\n",
      "0 0.6 0.122474487139 0.6 0.625\n",
      "ROC -  0.625\n",
      "Accuracy -  0.625\n",
      "Confusion Matrix -  [[1 3]\n",
      " [0 4]]\n",
      "             precision    recall  f1-score   support\n",
      "\n",
      "    class 0       1.00      0.25      0.40         4\n",
      "    class 1       0.57      1.00      0.73         4\n",
      "\n",
      "avg / total       0.79      0.62      0.56         8\n",
      "\n"
     ]
    }
   ],
   "source": [
    "#Logistic\n",
    "    \n",
    "print \"ACCURACY RESUTLS\"    \n",
    "print \"Mean Accuracy of 5 fold CV\",\"\\t\", \"STD\",\"\\t\", \"Validation \",\"\\t\", \"Test\"    \n",
    "    \n",
    "for i in xrange(1):  # , max_iter = i\n",
    "    clf = linear_model.LogisticRegression( class_weight='balanced', penalty = 'l1')\n",
    "    clf.fit(actual_training, y_actual_training)\n",
    "    scores = cross_validation.cross_val_score(clf, actual_training, y_actual_training, cv=5)\n",
    "    y_pred_valid = clf.predict(validation)\n",
    "    print i, scores.mean(), scores.std(), accuracy_score(y_validation, y_pred_valid), accuracy_score(y_test, clf.predict(new_x_test))\n",
    "    \n",
    "print_results(clf, y_test, clf.predict(new_x_test), clf.predict_proba(new_x_test)[:,1] )"
   ]
  },
  {
   "cell_type": "code",
   "execution_count": 23,
   "metadata": {
    "collapsed": false,
    "scrolled": true
   },
   "outputs": [
    {
     "name": "stdout",
     "output_type": "stream",
     "text": [
      "ACCURACY RESUTLS of 5 fold CV\n",
      "Mean Accuracy  \tSTD \tValidation  \tTest\n",
      "5 \t0.6 \t0.122474487139 \t0.8 \t0.875\n",
      "10 \t0.6 \t0.122474487139 \t0.8 \t0.875\n",
      "100 \t0.55 \t0.1 \t0.8 \t0.875\n",
      "500 \t0.55 \t0.1 \t0.8 \t0.875\n",
      "1000 \t0.55 \t0.1 \t0.8 \t0.875\n",
      "Confusion Matrix -  [[3 1]\n",
      " [0 4]]\n",
      "             precision    recall  f1-score   support\n",
      "\n",
      "    class 0       1.00      0.75      0.86         4\n",
      "    class 1       0.80      1.00      0.89         4\n",
      "\n",
      "avg / total       0.90      0.88      0.87         8\n",
      "\n"
     ]
    }
   ],
   "source": [
    "#Linear SVC\n",
    "    \n",
    "print \"ACCURACY RESUTLS of 5 fold CV\"    \n",
    "print \"Mean Accuracy \",\"\\t\", \"STD\",\"\\t\", \"Validation \",\"\\t\", \"Test\"    \n",
    "\n",
    "iter = [5,10,100,500,1000]\n",
    "\n",
    "for i in iter:\n",
    "    clf = LinearSVC(class_weight = 'balanced', dual = False, max_iter = i)\n",
    "    clf.fit(actual_training, y_actual_training)\n",
    "    scores = cross_validation.cross_val_score(clf, actual_training, y_actual_training, cv=5 )\n",
    "    y_pred_valid = clf.predict(validation)\n",
    "    print i, \"\\t\",scores.mean(),\"\\t\", scores.std(), \"\\t\",accuracy_score(y_validation, y_pred_valid), \"\\t\",accuracy_score(y_test, clf.predict(new_x_test))\n",
    "\n",
    "target_names = ['class 0', 'class 1']\n",
    "print 'Confusion Matrix - ', confusion_matrix(y_test, clf.predict(new_x_test))\n",
    "print classification_report(y_test, clf.predict(new_x_test), target_names=target_names)"
   ]
  },
  {
   "cell_type": "markdown",
   "metadata": {
    "collapsed": true
   },
   "source": []
  },
  {
   "cell_type": "code",
   "execution_count": null,
   "metadata": {
    "collapsed": false
   },
   "outputs": [],
   "source": []
  },
  {
   "cell_type": "code",
   "execution_count": null,
   "metadata": {
    "collapsed": false
   },
   "outputs": [],
   "source": []
  },
  {
   "cell_type": "code",
   "execution_count": null,
   "metadata": {
    "collapsed": false
   },
   "outputs": [],
   "source": []
  },
  {
   "cell_type": "code",
   "execution_count": null,
   "metadata": {
    "collapsed": false
   },
   "outputs": [],
   "source": []
  },
  {
   "cell_type": "code",
   "execution_count": null,
   "metadata": {
    "collapsed": false
   },
   "outputs": [],
   "source": []
  },
  {
   "cell_type": "code",
   "execution_count": null,
   "metadata": {
    "collapsed": false
   },
   "outputs": [],
   "source": []
  },
  {
   "cell_type": "code",
   "execution_count": null,
   "metadata": {
    "collapsed": false
   },
   "outputs": [],
   "source": []
  },
  {
   "cell_type": "code",
   "execution_count": null,
   "metadata": {
    "collapsed": true
   },
   "outputs": [],
   "source": []
  }
 ],
 "metadata": {
  "anaconda-cloud": {},
  "kernelspec": {
   "display_name": "Python [conda root]",
   "language": "python",
   "name": "conda-root-py"
  },
  "language_info": {
   "codemirror_mode": {
    "name": "ipython",
    "version": 2
   },
   "file_extension": ".py",
   "mimetype": "text/x-python",
   "name": "python",
   "nbconvert_exporter": "python",
   "pygments_lexer": "ipython2",
   "version": "2.7.12"
  }
 },
 "nbformat": 4,
 "nbformat_minor": 1
}
